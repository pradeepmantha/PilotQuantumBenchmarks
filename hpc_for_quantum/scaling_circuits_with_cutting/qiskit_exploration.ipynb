{
 "cells": [
  {
   "cell_type": "markdown",
   "id": "c1929b4e165b72da",
   "metadata": {
    "collapsed": false
   },
   "source": [
    "# Pilot-Quantum "
   ]
  },
  {
   "cell_type": "code",
   "execution_count": null,
   "id": "initial_id",
   "metadata": {
    "ExecuteTime": {
     "end_time": "2023-08-29T15:12:24.682602Z",
     "start_time": "2023-08-29T15:12:24.672358Z"
    }
   },
   "outputs": [],
   "source": [
    "import os, time, sys\n",
    "sys.path.insert(0, os.path.abspath('../../..'))\n",
    "import socket\n",
    "import getpass\n",
    "import datetime\n",
    "\n",
    "# Python Dask and Data stack\n",
    "import numpy as np\n",
    "import pandas as pd\n",
    "import distributed, dask\n",
    "import dask.dataframe as dd\n",
    "import dask.array as da\n",
    "import dask.bag as db\n",
    "\n",
    "# Pilot-Quantum\n",
    "import pilot.streaming\n",
    "\n",
    "import logging\n",
    "logging.basicConfig(level=logging.WARNING)\n",
    "\n",
    "# Qiskit\n",
    "from qiskit import QuantumCircuit, transpile, execute, Aer\n",
    "from qiskit_aer import AerSimulator # for GPU\n",
    "from qiskit.primitives import Estimator\n",
    "from qiskit_aer.primitives import Estimator as AirEstimator\n",
    "from qiskit_benchmark import run_graph, generate_data\n",
    "\n",
    "logging.getLogger('qiskit').setLevel(logging.INFO)\n",
    "logging.getLogger('qiskit.transpiler').setLevel(logging.WARN)\n",
    "logging.getLogger('stevedore.extension').setLevel(logging.INFO)"
   ]
  },
  {
   "cell_type": "markdown",
   "id": "b452f7beb8716f94",
   "metadata": {
    "collapsed": false
   },
   "source": [
    "## Start Pilot"
   ]
  },
  {
   "cell_type": "code",
   "execution_count": null,
   "id": "830826b298b9b69a",
   "metadata": {
    "ExecuteTime": {
     "end_time": "2023-08-29T15:06:45.151423Z",
     "start_time": "2023-08-29T15:06:45.146776Z"
    }
   },
   "outputs": [],
   "source": [
    "RESOURCE_URL_HPC = \"slurm://localhost\"\n",
    "WORKING_DIRECTORY = os.path.join(os.environ[\"PSCRATCH\"], \"work\")\n",
    "\n",
    "def start_pilot(number_cores):\n",
    "    pilot_compute_description_dask = {\n",
    "        #\"resource\": \"ssh://{}@localhost\".format(getpass.getuser()),\n",
    "        \"resource\": RESOURCE_URL_HPC,\n",
    "        #\"working_directory\": os.path.join(os.path.expanduser(\"~\"), \"work\"),\n",
    "        \"working_directory\": WORKING_DIRECTORY,\n",
    "        #\"number_of_nodes\": 1,\n",
    "        \"number_cores\": number_cores,\n",
    "        #\"cores_per_node\": number_cores,\n",
    "        \"queue\": \"normal\",\n",
    "        \"walltime\": 5,\n",
    "        \"type\": \"dask\",\n",
    "        \"project\": \"m4408\",\n",
    "        \"os_ssh_keyfile\": \"~/.ssh/nersc\",\n",
    "        \"scheduler_script_commands\": [\"#SBATCH --constraint=cpu\"]\n",
    "    }\n",
    "\n",
    "#     pilot_compute_description_dask = {\n",
    "#     \"resource\": RESOURCE_URL_HPC,\n",
    "#     \"working_directory\": WORKING_DIRECTORY,\n",
    "#     \"number_cores\": 1,\n",
    "#     \"queue\": \"normal\",\n",
    "#     \"walltime\": 5,\n",
    "#     \"type\": \"dask\",\n",
    "#     \"project\": \"m4408\",\n",
    "#     \"os_ssh_keyfile\": \"~/.ssh/nersc\",\n",
    "#     \"scheduler_script_commands\": [\"#SBATCH --constraint=cpu\"]\n",
    "# }\n",
    "\n",
    "\n",
    "    dask_pilot = pilot.streaming.PilotComputeService.create_pilot(pilot_compute_description_dask)\n",
    "    dask_pilot.wait()\n",
    "    dask_pilot.get_details()\n",
    "    dask_client  = distributed.Client(dask_pilot.get_details()['master_url'])\n",
    "    return dask_pilot, dask_client"
   ]
  },
  {
   "cell_type": "code",
   "execution_count": null,
   "id": "abf2f3104eb46431",
   "metadata": {
    "ExecuteTime": {
     "end_time": "2023-08-29T15:06:57.678163Z",
     "start_time": "2023-08-29T15:06:45.625097Z"
    }
   },
   "outputs": [],
   "source": [
    "dask_pilot, dask_client = start_pilot(1)\n",
    "dask_client.scheduler_info()\n",
    "dask_client.gather(dask_client.map(lambda a: a*a, range(10)))"
   ]
  },
  {
   "cell_type": "code",
   "execution_count": null,
   "id": "97e7693eb06bcd50",
   "metadata": {
    "ExecuteTime": {
     "end_time": "2023-08-29T14:53:14.977025Z",
     "start_time": "2023-08-29T14:53:14.946521Z"
    }
   },
   "outputs": [],
   "source": [
    "dask_pilot.cancel()"
   ]
  },
  {
   "cell_type": "markdown",
   "id": "ba840b4eaede8298",
   "metadata": {
    "collapsed": false
   },
   "source": [
    "## Test different quantum workloads with Pilot"
   ]
  },
  {
   "cell_type": "code",
   "execution_count": null,
   "id": "82a67e0b142a70b",
   "metadata": {
    "ExecuteTime": {
     "end_time": "2023-08-29T14:53:15.252644Z",
     "start_time": "2023-08-29T14:53:14.973122Z"
    }
   },
   "outputs": [],
   "source": [
    "# run_graph(depth_of_recursion=1,\n",
    "#         num_qubits=2,\n",
    "#         n_entries=1,\n",
    "#         circuit_depth=1,\n",
    "#         size_of_observable=1,\n",
    "#         n_backends=1)"
   ]
  },
  {
   "cell_type": "code",
   "execution_count": null,
   "id": "5b0118a1515f5b05",
   "metadata": {
    "ExecuteTime": {
     "end_time": "2023-08-29T14:53:15.257821Z",
     "start_time": "2023-08-29T14:53:15.252766Z"
    }
   },
   "outputs": [],
   "source": [
    "circuits, observables =  generate_data(\n",
    "            depth_of_recursion=1, # number of circuits and observables\n",
    "            num_qubits=20,\n",
    "            n_entries=1, # number of circuits and observables => same as depth_of_recursion\n",
    "            circuit_depth=5,\n",
    "            size_of_observable=1\n",
    "        )\n",
    "# for c in circuits: c.save_statevector() "
   ]
  },
  {
   "cell_type": "code",
   "execution_count": null,
   "id": "efb87e2b91e621e0",
   "metadata": {
    "ExecuteTime": {
     "end_time": "2023-08-29T14:31:50.466500Z",
     "start_time": "2023-08-29T14:31:50.456668Z"
    }
   },
   "outputs": [],
   "source": [
    "circuits[0].draw()"
   ]
  },
  {
   "cell_type": "code",
   "execution_count": null,
   "id": "2319819cd7b4c1ae",
   "metadata": {
    "ExecuteTime": {
     "end_time": "2023-08-29T14:31:52.063876Z",
     "start_time": "2023-08-29T14:31:52.059648Z"
    }
   },
   "outputs": [],
   "source": [
    "\n",
    "observables[0]"
   ]
  },
  {
   "cell_type": "markdown",
   "id": "8aef899a",
   "metadata": {},
   "source": [
    "Run with \"vanilla\" Estimator"
   ]
  },
  {
   "cell_type": "code",
   "execution_count": null,
   "id": "332c32ebff1909f5",
   "metadata": {
    "ExecuteTime": {
     "end_time": "2023-08-29T14:31:52.535286Z",
     "start_time": "2023-08-29T14:31:52.528896Z"
    }
   },
   "outputs": [],
   "source": [
    "Estimator().run(circuits, observables).result()"
   ]
  },
  {
   "cell_type": "markdown",
   "id": "cf77dd5f",
   "metadata": {},
   "source": [
    "Run with Aer Estimator (without GPU)"
   ]
  },
  {
   "cell_type": "code",
   "execution_count": null,
   "id": "28b009dc",
   "metadata": {},
   "outputs": [],
   "source": [
    "options = {\"method\": \"statevector\", \"device\":'CPU'}\n",
    "estimator = AirEstimator(backend_options=options)\n",
    "estimator.run(circuits, observables).result()\n"
   ]
  },
  {
   "cell_type": "markdown",
   "id": "ca047280",
   "metadata": {},
   "source": [
    "Run with GPU enabled Estimator"
   ]
  },
  {
   "cell_type": "code",
   "execution_count": null,
   "id": "8aa5d23c",
   "metadata": {},
   "outputs": [],
   "source": [
    "#options = {\"shots\": 1024}\n",
    "options = {\"method\": \"statevector\", \"device\":'GPU', \"cuStateVec_enable\": True, \"shots\":None}\n",
    "# options = {\"backend\": simulator}\n",
    "estimator = AirEstimator(backend_options=options)\n",
    "estimator.run(circuits, observables).result()\n",
    "\n",
    "# simulator = Aer.get_backend('aer_simulator_statevector_gpu', shots=None)\n",
    "# simulator = AerSimulator(method='statevector', device='GPU', cuStateVec_enable=True)\n",
    "# result = execute(circuits, simulator).result()\n",
    "# print(result)\n",
    "# statevector = result.get_statevector()\n",
    "\n",
    "#circ = transpile(circuits)\n",
    "# Execute the circuit and get the statevector\n",
    "#result = execute(circuits, simulator, shots=0).result()\n",
    "#statevector = result.get_statevector()\n",
    "\n",
    "# Create an Estimator object\n",
    "# estimator = AirEstimator()\n",
    "\n",
    "# Estimate the expectation value of the observable\n",
    "# expectation_value = "
   ]
  },
  {
   "cell_type": "markdown",
   "id": "2e809e81",
   "metadata": {},
   "source": [
    "### Dask Implementation"
   ]
  },
  {
   "cell_type": "code",
   "execution_count": null,
   "id": "9441f1dd74f8e862",
   "metadata": {
    "ExecuteTime": {
     "end_time": "2023-08-29T14:31:53.091189Z",
     "start_time": "2023-08-29T14:31:53.084964Z"
    }
   },
   "outputs": [],
   "source": [
    "# create array of tuples with circuits and collections\n",
    "circuits_observables =zip(circuits, observables)\n",
    "circuit_bag = db.from_sequence(circuits_observables) "
   ]
  },
  {
   "cell_type": "code",
   "execution_count": null,
   "id": "5af24be62e529848",
   "metadata": {
    "ExecuteTime": {
     "end_time": "2023-08-29T14:31:54.678871Z",
     "start_time": "2023-08-29T14:31:54.194204Z"
    }
   },
   "outputs": [],
   "source": [
    "circuit_bag.map(lambda circ_obs: Estimator().run(circ_obs[0], circ_obs[1]).result()).compute()"
   ]
  },
  {
   "cell_type": "code",
   "execution_count": null,
   "id": "e180c79af9ab2b9b",
   "metadata": {
    "ExecuteTime": {
     "end_time": "2023-08-29T14:53:21.260575Z",
     "start_time": "2023-08-29T14:53:21.247073Z"
    }
   },
   "outputs": [],
   "source": [
    "dask_pilot.cancel()"
   ]
  },
  {
   "cell_type": "markdown",
   "id": "d98fdfe8963eb14c",
   "metadata": {
    "collapsed": false
   },
   "source": [
    "## Micro Benchmark "
   ]
  },
  {
   "cell_type": "code",
   "execution_count": null,
   "id": "725b5ffe261ffbe9",
   "metadata": {
    "ExecuteTime": {
     "end_time": "2023-08-29T15:23:09.073369Z",
     "start_time": "2023-08-29T15:22:56.398636Z"
    }
   },
   "outputs": [],
   "source": [
    "# create a benchmark loop\n",
    "num_qubits = 2\n",
    "n_entries = 1024\n",
    "results = []\n",
    "run_timestamp=datetime.datetime.now()\n",
    "RESULT_FILE= \"pilot-quantum-summary-\" + run_timestamp.strftime(\"%Y%m%d-%H%M%S\") + \".csv\"\n",
    "       \n",
    "for number_cores in [1]:\n",
    "    start = time.time()\n",
    "    dask_pilot, dask_client = start_pilot(number_cores)\n",
    "    circuits, observables =  generate_data(\n",
    "            depth_of_recursion=1, # number of circuits and observables\n",
    "            num_qubits=num_qubits,\n",
    "            n_entries=n_entries, # number of circuits and observables => same as depth_of_recursion\n",
    "            circuit_depth=1,\n",
    "            size_of_observable=1\n",
    "    ) \n",
    "    end_pilot = time.time()\n",
    "    circuits_observables =zip(circuits, observables)\n",
    "    circuit_bag = db.from_sequence(circuits_observables)\n",
    "    circuit_bag.map(lambda circ_obs: Estimator().run(circ_obs[0], circ_obs[1]).result()).compute()\n",
    "    end_compute = time.time()\n",
    "    dask_pilot.cancel()\n",
    "    end_stop_pilot = time.time()\n",
    "    # write data to file\n",
    "    result_string = \"Number Cores: {} Number Qubits: {} Number Circuits {} Pilot start: {}, Total: {}, Compute: {}s\".format(number_cores, num_qubits, n_entries, end_pilot-start, end_stop_pilot-start, end_compute-end_pilot)\n",
    "    results.append(result_string)\n",
    "    with open(RESULT_FILE, \"w\") as f:\n",
    "        f.write(results)\n",
    "    time.sleep(60)"
   ]
  },
  {
   "cell_type": "code",
   "execution_count": null,
   "id": "b5946754436865cd",
   "metadata": {},
   "outputs": [],
   "source": [
    "print(results)"
   ]
  },
  {
   "cell_type": "code",
   "execution_count": null,
   "id": "6fad1694",
   "metadata": {},
   "outputs": [],
   "source": []
  }
 ],
 "metadata": {
  "kernelspec": {
   "display_name": "Python 3 (ipykernel)",
   "language": "python",
   "name": "python3"
  },
  "language_info": {
   "codemirror_mode": {
    "name": "ipython",
    "version": 3
   },
   "file_extension": ".py",
   "mimetype": "text/x-python",
   "name": "python",
   "nbconvert_exporter": "python",
   "pygments_lexer": "ipython3",
   "version": "3.10.12"
  }
 },
 "nbformat": 4,
 "nbformat_minor": 5
}
